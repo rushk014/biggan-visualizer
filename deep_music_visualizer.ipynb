{
  "cells": [
    {
      "cell_type": "code",
      "execution_count": null,
      "metadata": {
        "id": "BMieVKFeviC1"
      },
      "outputs": [],
      "source": [
        "!git clone https://github.com/rushk014/biggan-visualizer.git\n",
        "%cd biggan-visualizer\n",
        "!pip install -r requirements.txt"
      ]
    },
    {
      "cell_type": "code",
      "execution_count": null,
      "metadata": {
        "id": "bhHmVeQ8vzC9"
      },
      "outputs": [],
      "source": [
        "!python visualizer.py --song input/death_with_dignity.mp3 --lyrics input/death_with_dignity.txt --batch_size 12"
      ]
    },
    {
      "cell_type": "code",
      "execution_count": null,
      "metadata": {},
      "outputs": [],
      "source": [
        "# cleanup script\n",
        "%cd ..\n",
        "!rm -rf biggan-visualizer/"
      ]
    }
  ],
  "metadata": {
    "accelerator": "GPU",
    "colab": {
      "collapsed_sections": [],
      "name": "deep-music-visualizer.ipynb",
      "provenance": []
    },
    "kernelspec": {
      "display_name": "Python 3",
      "name": "python3"
    },
    "language_info": {
      "codemirror_mode": {
        "name": "ipython",
        "version": 3
      },
      "file_extension": ".py",
      "mimetype": "text/x-python",
      "name": "python",
      "nbconvert_exporter": "python",
      "pygments_lexer": "ipython3",
      "version": "3.7.11"
    }
  },
  "nbformat": 4,
  "nbformat_minor": 0
}
